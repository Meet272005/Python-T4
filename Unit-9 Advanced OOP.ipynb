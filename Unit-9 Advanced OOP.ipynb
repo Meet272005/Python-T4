{
 "cells": [
  {
   "cell_type": "markdown",
   "metadata": {},
   "source": [
    "<h2><u> 1. Polyphormism"
   ]
  },
  {
   "cell_type": "markdown",
   "metadata": {},
   "source": [
    "* 1.method overloading\n",
    "* 2.method overriding\n",
    "* 3.operator overloading"
   ]
  },
  {
   "cell_type": "markdown",
   "metadata": {},
   "source": [
    "<h4> <li> Method overloading "
   ]
  },
  {
   "cell_type": "markdown",
   "metadata": {},
   "source": [
    "* compile time polyphormism\n",
    "* it occurs in same class\n",
    "* methods must have same name and different parameter\n",
    "* python does not suppport method overloading\n"
   ]
  },
  {
   "cell_type": "markdown",
   "metadata": {},
   "source": [
    "<h4> <li> Method overriding "
   ]
  },
  {
   "cell_type": "markdown",
   "metadata": {},
   "source": [
    "* runtime time polyphormism\n",
    "* it occurs in two class via inheritence\n",
    "* methods must have same name and same parameter\n",
    "* python suppport method overriding\n"
   ]
  },
  {
   "cell_type": "code",
   "execution_count": 2,
   "metadata": {},
   "outputs": [
    {
     "name": "stdout",
     "output_type": "stream",
     "text": [
      "30\n",
      "60\n"
     ]
    }
   ],
   "source": [
    "class A:\n",
    "    def add(self,a,b):\n",
    "        print(a+b)\n",
    "        \n",
    "    def add(self,a,b,c=0):\n",
    "        print(a+b+c)\n",
    "        \n",
    "obj=A()\n",
    "obj.add(10,20)\n",
    "obj.add(10,20,30)"
   ]
  },
  {
   "cell_type": "code",
   "execution_count": 4,
   "metadata": {},
   "outputs": [
    {
     "name": "stdout",
     "output_type": "stream",
     "text": [
      "First function of class B\n",
      "Second function of class A\n",
      "Display function of class B\n",
      "\n",
      "First function of class A\n",
      "Second function of class A\n"
     ]
    }
   ],
   "source": [
    "class A:\n",
    "    def first(self):\n",
    "        print(\"First function of class A\")\n",
    "        \n",
    "    def second(self):\n",
    "        print(\"Second function of class A\")\n",
    "        \n",
    "class B(A):\n",
    "    def first(self):\n",
    "        print(\"First function of class B\")\n",
    "        \n",
    "    def display(self):\n",
    "        print(\"Display function of class B\")\n",
    "        \n",
    "obj=B()\n",
    "obj.first()\n",
    "obj.second()\n",
    "obj.display()\n",
    "print()\n",
    "\n",
    "obj1=A()\n",
    "obj1.first()\n",
    "obj1.second()\n",
    "# obj1.display() AttributeError: 'A' object has no attribute 'display'"
   ]
  },
  {
   "cell_type": "code",
   "execution_count": 10,
   "metadata": {},
   "outputs": [
    {
     "name": "stdout",
     "output_type": "stream",
     "text": [
      "50\n"
     ]
    }
   ],
   "source": [
    "class parent:\n",
    "    def __init__(self):\n",
    "        self.attr1=50\n",
    "        self.attr2=60\n",
    "        \n",
    "class child(parent):\n",
    "    def __init__(self):\n",
    "        self.attr3=70\n",
    "        super().__init__()\n",
    "    #         OR\n",
    "    #   parent.__init__(self)\n",
    "\n",
    "obj=child()\n",
    "print(obj.attr1)"
   ]
  },
  {
   "cell_type": "code",
   "execution_count": 2,
   "metadata": {},
   "outputs": [
    {
     "name": "stdout",
     "output_type": "stream",
     "text": [
      "Adddition 30\n",
      "Multiplication 200\n",
      "Adddition 30\n"
     ]
    }
   ],
   "source": [
    "class Add:\n",
    "    def result(self,a,b):\n",
    "        print(\"Adddition\",a+b)\n",
    "        \n",
    "class Multi(Add):\n",
    "    def result(self,a,b):\n",
    "        super().result(a,b)\n",
    "        print(\"Multiplication\",a*b)\n",
    "        \n",
    "m=Multi()\n",
    "m.result(10,20)\n",
    "m=Add()\n",
    "m.result(10,20)"
   ]
  },
  {
   "cell_type": "markdown",
   "metadata": {},
   "source": [
    "<h4> <li> Operator overloading"
   ]
  },
  {
   "cell_type": "code",
   "execution_count": 4,
   "metadata": {},
   "outputs": [],
   "source": [
    "# + --> __add__(self,other)\n",
    "# - --> __sub__(self,other)\n",
    "# * --> __mul__(self,other)\n",
    "# / --> __truediv__(self,other)\n",
    "# // --> __floordiv__(self,other)\n",
    "# % --> __mod__(self,other)\n",
    "# ** --> __pow__(self,other)\n",
    "\n",
    "# >  --> __gt__(self,other)\n",
    "# <  --> __lt__(self,other)\n",
    "# >= --> __ge__(self,other)\n",
    "# <= --> __le__(self,other)\n",
    "# == --> __eq__(self,other)\n",
    "# != --> __ne__(self,other)"
   ]
  },
  {
   "cell_type": "code",
   "execution_count": 21,
   "metadata": {},
   "outputs": [
    {
     "name": "stdout",
     "output_type": "stream",
     "text": [
      "ADD:  5\n",
      "ADD:  HiHello\n",
      "SUB: -1\n",
      "MUL: 6\n",
      "MUL: HiHiHi\n",
      "DIV: 1.5\n",
      "FLOOR DIV: 1\n",
      "MOD: 2\n",
      "POW: 8\n",
      "Comparison Operator: \n",
      "GT: False\n",
      "LT: False\n",
      "GE: True\n",
      "LE: True\n",
      "EQ: True\n",
      "NE: False\n",
      "5\n"
     ]
    }
   ],
   "source": [
    "class A:\n",
    "    def __init__(self,a):\n",
    "        self.a=a\n",
    "        \n",
    "    def __add__(self,other):\n",
    "        return self.a+other.a\n",
    "\n",
    "    def  __sub__(self,other):\n",
    "        return self.a-other.a\n",
    "    \n",
    "    def  __mul__(self,other):\n",
    "        return self.a*other.a\n",
    "    \n",
    "    def __truediv__(self,other):\n",
    "        return self.a/other.a\n",
    "    \n",
    "    def __floordiv__(self,other):\n",
    "        return self.a//other.a\n",
    "    \n",
    "    def __mod__(self,other):\n",
    "        return self.a%other.a\n",
    "    \n",
    "    def __pow__(self,other):\n",
    "        return self.a**other.a\n",
    "    \n",
    "    def __gt__(self,other):\n",
    "        return self.a>other.a\n",
    "    \n",
    "    def __lt__(self,other):\n",
    "        return self.a<other.a\n",
    "    \n",
    "    def __ge__(self,other):\n",
    "        return self.a>=other.a\n",
    "    \n",
    "    def  __le__(self,other):\n",
    "        return self.a<=other.a\n",
    "    \n",
    "    def __eq__(self,other):\n",
    "        return self.a==other.a\n",
    "    \n",
    "    def __ne__(self,other):\n",
    "        return self.a!=other.a\n",
    "\n",
    "obj1=A(2)\n",
    "obj2=A(3)\n",
    "obj3=A(\"Hi\")\n",
    "obj4=A(\"Hello\")\n",
    "obj5=A(3)\n",
    "obj6=A(5)\n",
    "\n",
    "print(\"ADD: \",obj1+obj2)\n",
    "print(\"ADD: \",obj3+obj4)\n",
    "print(\"SUB:\",obj1-obj2)\n",
    "print(\"MUL:\",obj1*obj2)\n",
    "print(\"MUL:\",obj3*obj2)\n",
    "print(\"DIV:\",obj2/obj1)\n",
    "print(\"FLOOR DIV:\",obj2//obj1)\n",
    "print(\"MOD:\",obj1%obj2)\n",
    "print(\"POW:\",obj1**obj2)\n",
    "\n",
    "print(\"Comparison Operator: \")\n",
    "print(\"GT:\",obj5>obj2)\n",
    "print(\"LT:\",obj6<obj2)\n",
    "print(\"GE:\",obj5>=obj2)\n",
    "print(\"LE:\",obj1<=obj2)\n",
    "print(\"EQ:\",obj5==obj2)\n",
    "print(\"NE:\",obj5!=obj2)\n",
    "print(obj5.__add__(obj1))"
   ]
  },
  {
   "cell_type": "markdown",
   "metadata": {},
   "source": [
    "<h2><u> 2. Single Inheritance"
   ]
  },
  {
   "cell_type": "markdown",
   "metadata": {},
   "source": [
    "<h4> I. Single Inheritance"
   ]
  },
  {
   "cell_type": "code",
   "execution_count": 23,
   "metadata": {},
   "outputs": [
    {
     "name": "stdout",
     "output_type": "stream",
     "text": [
      "Hello Parent\n",
      "Hello child\n"
     ]
    }
   ],
   "source": [
    "class parent:\n",
    "    def func1(self):\n",
    "        print(\"Hello Parent\")\n",
    "\n",
    "class child(parent):\n",
    "    def func2(self):\n",
    "        print(\"Hello child\")\n",
    "        \n",
    "test=child()\n",
    "test.func1()\n",
    "test.func2()"
   ]
  },
  {
   "cell_type": "markdown",
   "metadata": {},
   "source": [
    "<h4> II. Multiple Inheritance"
   ]
  },
  {
   "cell_type": "code",
   "execution_count": 36,
   "metadata": {},
   "outputs": [
    {
     "name": "stdout",
     "output_type": "stream",
     "text": [
      "Hello parent1\n",
      "Hello parent3\n",
      "Hello Child\n",
      "(<class '__main__.child'>, <class '__main__.parent1'>, <class '__main__.parent3'>, <class '__main__.parent2'>, <class 'object'>)\n",
      "[<class '__main__.child'>, <class '__main__.parent1'>, <class '__main__.parent3'>, <class '__main__.parent2'>, <class 'object'>]\n",
      "[<class '__main__.parent2'>, <class 'object'>]\n"
     ]
    }
   ],
   "source": [
    "class parent1:\n",
    "    def func1(self):\n",
    "        print(\"Hello parent1\")\n",
    "        \n",
    "class parent2:\n",
    "    def func2(self):\n",
    "        print(\"Hello parent2\")\n",
    "        \n",
    "class parent3:\n",
    "    def func2(self):\n",
    "        print(\"Hello parent3\")\n",
    "        \n",
    "class child(parent1,parent3,parent2):\n",
    "    def func3(self):\n",
    "        print(\"Hello Child\")\n",
    "        \n",
    "test=child()\n",
    "test.func1()\n",
    "test.func2()\n",
    "test.func3()\n",
    "\n",
    "# Method Resolution order\n",
    "print(child.__mro__) \n",
    "print(child.mro())\n",
    "print(parent2.mro())"
   ]
  },
  {
   "cell_type": "markdown",
   "metadata": {},
   "source": [
    "<h4> III. Multilevel Inheritance"
   ]
  },
  {
   "cell_type": "code",
   "execution_count": 42,
   "metadata": {},
   "outputs": [
    {
     "name": "stdout",
     "output_type": "stream",
     "text": [
      "[<class '__main__.child'>, <class '__main__.parent'>, <class '__main__.grandparent'>, <class 'object'>]\n",
      "[<class '__main__.parent'>, <class '__main__.grandparent'>, <class 'object'>]\n",
      "plot in village\n"
     ]
    }
   ],
   "source": [
    "class grandparent:\n",
    "    def property0(self):\n",
    "        print(\"plot in village\")\n",
    "\n",
    "class parent(grandparent):\n",
    "    def property1(self):\n",
    "        print(\"Flat in city\")\n",
    "        \n",
    "class child(parent):\n",
    "    def property2(self):\n",
    "        print(\"Debt of Home loan\")\n",
    "        \n",
    "obj1=child()\n",
    "print(child.mro())\n",
    "print(parent.mro())\n",
    "obj1.property0()\n"
   ]
  },
  {
   "cell_type": "markdown",
   "metadata": {},
   "source": [
    "<h4> IV. Hierarchical Inheritance"
   ]
  },
  {
   "cell_type": "code",
   "execution_count": 54,
   "metadata": {},
   "outputs": [
    {
     "name": "stdout",
     "output_type": "stream",
     "text": [
      "7000.0\n",
      "2000.0\n"
     ]
    }
   ],
   "source": [
    "class parent:\n",
    "    s=10000\n",
    "\n",
    "class son(parent):\n",
    "    def property1(self):\n",
    "        print(self.s*0.7)\n",
    "\n",
    "class daughter(parent):\n",
    "    def property2(self):\n",
    "        print(self.s*0.2)\n",
    "    \n",
    "obj2=daughter()\n",
    "obj1=son()\n",
    "\n",
    "obj1.property1()\n",
    "obj2.property2()"
   ]
  },
  {
   "cell_type": "markdown",
   "metadata": {},
   "source": [
    "<h4> V. Hybrid Inheritance"
   ]
  },
  {
   "cell_type": "code",
   "execution_count": 59,
   "metadata": {},
   "outputs": [
    {
     "name": "stdout",
     "output_type": "stream",
     "text": [
      "Hello Parent1\n",
      "Hello child1\n",
      "Hello Parent1\n",
      "Hello Parent2\n",
      "Hello child1\n",
      "Hello child2\n",
      "[<class '__main__.child1'>, <class '__main__.parent1'>, <class 'object'>]\n",
      "[<class '__main__.child2'>, <class '__main__.child1'>, <class '__main__.parent1'>, <class '__main__.parent2'>, <class 'object'>]\n"
     ]
    }
   ],
   "source": [
    "class parent1:\n",
    "    def func1(self):\n",
    "        print(\"Hello Parent1\")\n",
    "        \n",
    "class parent2:\n",
    "    def func2(self):\n",
    "        print(\"Hello Parent2\")\n",
    "        \n",
    "class child1(parent1):\n",
    "    def func3(self):\n",
    "        print(\"Hello child1\")\n",
    "        \n",
    "class child2(child1,parent2):\n",
    "    def func4(self):\n",
    "        print(\"Hello child2\")\n",
    "        \n",
    "test1=child1()\n",
    "test2=child2()\n",
    "test1.func1()\n",
    "test1.func3()\n",
    "\n",
    "test2.func1()\n",
    "test2.func2()\n",
    "test2.func3()\n",
    "test2.func4()\n",
    "print(child1.mro())\n",
    "print(child2.mro())"
   ]
  },
  {
   "cell_type": "markdown",
   "metadata": {},
   "source": [
    "<h2> <li type=\"disc\">  issubclass()"
   ]
  },
  {
   "cell_type": "code",
   "execution_count": 5,
   "metadata": {},
   "outputs": [
    {
     "name": "stdout",
     "output_type": "stream",
     "text": [
      "True\n",
      "False\n"
     ]
    }
   ],
   "source": [
    "class parent():\n",
    "    def function1():\n",
    "        print(\"Hello\")\n",
    "        \n",
    "class child(parent):\n",
    "    def function2():\n",
    "        print(\"Hello child\")\n",
    "\n",
    "print(issubclass(child,parent))\n",
    "print(issubclass(parent,child))"
   ]
  },
  {
   "cell_type": "markdown",
   "metadata": {},
   "source": [
    "<h2> <li type=\"disc\">  isinstance()"
   ]
  },
  {
   "cell_type": "code",
   "execution_count": 4,
   "metadata": {},
   "outputs": [
    {
     "name": "stdout",
     "output_type": "stream",
     "text": [
      "True\n",
      "True\n",
      "False\n",
      "True\n"
     ]
    }
   ],
   "source": [
    "class parent():\n",
    "    def function1():\n",
    "        print(\"Hello\")\n",
    "        \n",
    "class child(parent):\n",
    "    def function2():\n",
    "        print(\"Hello child\")\n",
    "\n",
    "A=child()\n",
    "B=parent()\n",
    "print(isinstance(A,child))\n",
    "print(isinstance(A,parent))\n",
    "print(isinstance(B,child))\n",
    "print(isinstance(B,parent))"
   ]
  },
  {
   "cell_type": "markdown",
   "metadata": {},
   "source": [
    "<h2> <li type=\"disc\">   Method Resolution order"
   ]
  },
  {
   "cell_type": "code",
   "execution_count": 7,
   "metadata": {},
   "outputs": [
    {
     "name": "stdout",
     "output_type": "stream",
     "text": [
      "in class B\n",
      "[<class '__main__.D'>, <class '__main__.B'>, <class '__main__.C'>, <class '__main__.A'>, <class 'object'>]\n"
     ]
    }
   ],
   "source": [
    "# Method Resolution order\n",
    "\n",
    "class A:\n",
    "    def rk(self):\n",
    "        print(\"in class A\")\n",
    "        \n",
    "class B(A):\n",
    "    def rk(self):\n",
    "        print(\"in class B\")\n",
    "        \n",
    "class C(A):\n",
    "    def rk(self):\n",
    "        print(\"in class C\")\n",
    "        \n",
    "class D(B,C):\n",
    "    pass\n",
    "\n",
    "r=D()\n",
    "r.rk()\n",
    "print(D.mro())"
   ]
  },
  {
   "cell_type": "code",
   "execution_count": 19,
   "metadata": {},
   "outputs": [
    {
     "name": "stdout",
     "output_type": "stream",
     "text": [
      "Foo from P1\n",
      "Bar from P2\n",
      "[<class '__main__.GC'>, <class '__main__.C1'>, <class '__main__.P1'>, <class '__main__.C2'>, <class '__main__.P2'>, <class 'object'>]\n"
     ]
    }
   ],
   "source": [
    "class P1:\n",
    "    def foo(self):\n",
    "        print(\"Foo from P1\")\n",
    "        \n",
    "class P2:\n",
    "    def foo(self):\n",
    "        print(\"Foo from P2\")\n",
    "        \n",
    "    def bar(self):\n",
    "        print(\"Bar from P2\")\n",
    "        \n",
    "class C1(P1):\n",
    "    pass\n",
    "\n",
    "class C2(P2):\n",
    "    pass\n",
    "\n",
    "class GC(C1,C2):\n",
    "    pass\n",
    "\n",
    "g=GC()\n",
    "g.foo()\n",
    "g.bar()\n",
    "print(GC.mro())"
   ]
  },
  {
   "cell_type": "code",
   "execution_count": 26,
   "metadata": {},
   "outputs": [
    {
     "name": "stdout",
     "output_type": "stream",
     "text": [
      "[<class '__main__.Z'>, <class '__main__.K1'>, <class '__main__.C'>, <class '__main__.K3'>, <class '__main__.A'>, <class '__main__.K2'>, <class '__main__.B'>, <class '__main__.D'>, <class '__main__.E'>, <class 'object'>]\n"
     ]
    }
   ],
   "source": [
    "class A:pass\n",
    "class B:pass\n",
    "class C:pass\n",
    "class D:pass\n",
    "class E:pass\n",
    "class K1(C,A,B):pass\n",
    "class K3(A,D):pass\n",
    "class K2(B,D,E):pass\n",
    "class Z(K1,K3,K2):pass\n",
    "print(Z.mro())\n"
   ]
  },
  {
   "cell_type": "code",
   "execution_count": 30,
   "metadata": {},
   "outputs": [
    {
     "name": "stdout",
     "output_type": "stream",
     "text": [
      "[<class '__main__.Z'>, <class '__main__.K1'>, <class '__main__.C'>, <class '__main__.K2'>, <class '__main__.K3'>, <class '__main__.A'>, <class '__main__.B'>, <class '__main__.D'>, <class '__main__.E'>, <class 'object'>]\n"
     ]
    }
   ],
   "source": [
    "class A:pass\n",
    "class B:pass\n",
    "class C:pass\n",
    "class D:pass\n",
    "class E:pass\n",
    "class K1(C,A,B):pass\n",
    "class K3(A,D):pass\n",
    "class K2(B,D,E):pass\n",
    "class Z(K1,K2,K3):pass\n",
    "print(Z.mro())\n"
   ]
  },
  {
   "cell_type": "markdown",
   "metadata": {},
   "source": [
    "<h2> <li type=\"disc\"><u>   Abstraction"
   ]
  },
  {
   "cell_type": "code",
   "execution_count": 4,
   "metadata": {},
   "outputs": [
    {
     "name": "stdout",
     "output_type": "stream",
     "text": [
      "Drawing a Circle\n"
     ]
    }
   ],
   "source": [
    "from abc import ABC,abstractmethod\n",
    "\n",
    "class Shape(ABC):\n",
    "    def __init__(self,shape_name):\n",
    "        self.shape_name=shape_name\n",
    "        \n",
    "    @abstractmethod\n",
    "    def draw(self):\n",
    "        pass\n",
    "    \n",
    "class Circle(Shape):\n",
    "    def __init__(self):\n",
    "        super().__init__(\"Circle\")\n",
    "        \n",
    "    def draw(self):\n",
    "        print(\"Drawing a\",self.shape_name)\n",
    "        \n",
    "c=Circle()\n",
    "c.draw()"
   ]
  },
  {
   "cell_type": "code",
   "execution_count": 20,
   "metadata": {},
   "outputs": [
    {
     "name": "stdout",
     "output_type": "stream",
     "text": [
      "Name: Meet \n",
      "Salary: 10000\n",
      "Subject: JAVA\n",
      "\n",
      "Name: Meet \n",
      "Salary: 10000\n",
      "Department: BE\n"
     ]
    }
   ],
   "source": [
    "class Staff:\n",
    "    def __init__(self,name,salary):\n",
    "        self.name=name\n",
    "        self.salary=salary\n",
    "        \n",
    "    def display(self):\n",
    "        print(\"Name:\",self.name,\"\\nSalary:\",self.salary)\n",
    "        \n",
    "class Teaching(Staff):\n",
    "    def __init__(self,name,salary,subject):\n",
    "#         super().__init__(input(\"Ente name:\"),input(\"Enter salary:\"))\n",
    "        self.name=name\n",
    "        self.salary=salary\n",
    "        self.subject=subject\n",
    "        \n",
    "    def display(self):\n",
    "        super().display()\n",
    "        print(\"Subject:\",self.subject)\n",
    "        \n",
    "class Non_Teaching(Staff):\n",
    "    def __init__(self,name,salary,dept):\n",
    "#         super().__init__(input(\"Ente name:\"),input(\"Enter salary:\"))\n",
    "        self.name=name\n",
    "        self.salary=salary\n",
    "        self.dept=dept\n",
    "        \n",
    "    def display(self):\n",
    "        super().display()\n",
    "        print(\"Department:\",self.dept)\n",
    "        \n",
    "t=Teaching(\"Meet\",10000,\"JAVA\")\n",
    "t.display()      \n",
    "print()\n",
    "nt=Non_Teaching(\"Meet\",10000,\"BE\")\n",
    "nt.display()        "
   ]
  },
  {
   "cell_type": "code",
   "execution_count": 21,
   "metadata": {},
   "outputs": [],
   "source": [
    "# Create a class called as Student having name and email as its data member and put_data as bound method.\n",
    "# The __init__ function should used to pass variable and the put_data function should display the data member.\n",
    "# Create another class called PHD_guide having name,email,students as its data member ,\n",
    "# here the student varaible is the list of student under the guide.\n",
    "# The PHD_guide should have four Bound method:__init__,put_data,add,remove\n",
    "#\n",
    "#__init__:to intialise data\n",
    "# put_data :should display data member including list of student\n",
    "# add:Should add student to the student list\n",
    "# remove:should remove student from the list"
   ]
  },
  {
   "cell_type": "code",
   "execution_count": 32,
   "metadata": {},
   "outputs": [
    {
     "name": "stdout",
     "output_type": "stream",
     "text": [
      "Name: Meet\n",
      "Email: meet272005@gmail.com\n",
      "Students: []\n",
      "Enter name:Eminem\n",
      "Enter name:2PAC\n",
      "Enter name:Drake\n",
      "Name: Meet\n",
      "Email: meet272005@gmail.com\n",
      "Students: ['Eminem', '2PAC', 'Drake']\n",
      "Enter name:Weekend\n",
      "No such student found!!\n",
      "Enter name:Drake\n",
      "Name: Meet\n",
      "Email: meet272005@gmail.com\n",
      "Students: ['Eminem', '2PAC']\n"
     ]
    }
   ],
   "source": [
    "class Student:\n",
    "    def __init__(self,name,email):\n",
    "        self.name=name\n",
    "        self.email=email\n",
    "    \n",
    "    def put_data(self):\n",
    "        print(\"Name:\",self.name)\n",
    "        print(\"Email:\",self.email)\n",
    "        \n",
    "class PHD_Guide(Student):\n",
    "    def __init__(self,name,email):\n",
    "        self.s=[]\n",
    "        self.name=name\n",
    "        self.email=email\n",
    "        \n",
    "    def put_data(self):\n",
    "        super().put_data()\n",
    "        print(\"Students:\",self.s)\n",
    "        \n",
    "    def add(self):\n",
    "        self.s.append(input(\"Enter name:\"))\n",
    "        \n",
    "    def remove(self):\n",
    "        t=input(\"Enter name:\")\n",
    "        \n",
    "        if t in self.s:\n",
    "            self.s.remove(t)\n",
    "        else:\n",
    "            print(\"No such student found!!\")\n",
    "            \n",
    "p=PHD_Guide(\"Meet\",\"meet272005@gmail.com\")\n",
    "p.put_data()\n",
    "p.add()\n",
    "p.add()\n",
    "p.add()\n",
    "p.put_data()\n",
    "p.remove()\n",
    "p.remove()   \n",
    "p.put_data()"
   ]
  },
  {
   "cell_type": "code",
   "execution_count": 33,
   "metadata": {},
   "outputs": [],
   "source": [
    "# Create a class student with the following member attributes :\n",
    "    # Roll\n",
    "    # Name\n",
    "    # Age\n",
    "    # Total marks\n",
    "# Create suitable methods for reading and printing member variable.\n",
    "# WAP to overload == operator to print the details of students having same marks"
   ]
  },
  {
   "cell_type": "code",
   "execution_count": 39,
   "metadata": {},
   "outputs": [
    {
     "name": "stdout",
     "output_type": "stream",
     "text": [
      "\n",
      "----------------\n",
      "Roll no: 55\n",
      "Name: Meet\n",
      "Age 20\n",
      "Marks: 58\n",
      "----------------\n",
      "\n",
      "----------------\n",
      "Roll no: 39\n",
      "Name: Divy\n",
      "Age 19\n",
      "Marks: 68\n",
      "----------------\n",
      "\n",
      "----------------\n",
      "Roll no: 71\n",
      "Name: Manasvi\n",
      "Age 19\n",
      "Marks: 58\n",
      "----------------\n",
      "\n",
      "----------------\n",
      "Roll no: 55\n",
      "Name: Meet\n",
      "Age 20\n",
      "Marks: 58\n",
      "----------------\n",
      "\n",
      "----------------\n",
      "Roll no: 39\n",
      "Name: Divy\n",
      "Age 19\n",
      "Marks: 68\n",
      "----------------\n",
      "\n",
      "----------------\n",
      "Roll no: 39\n",
      "Name: Divy\n",
      "Age 19\n",
      "Marks: 68\n",
      "----------------\n",
      "\n",
      "----------------\n",
      "Roll no: 71\n",
      "Name: Manasvi\n",
      "Age 19\n",
      "Marks: 58\n",
      "----------------\n"
     ]
    }
   ],
   "source": [
    "class Student:\n",
    "    def __init__(self,rollno,name,age,marks):\n",
    "        self.rollno=rollno\n",
    "        self.name=name\n",
    "        self.age=age\n",
    "        self.marks=marks\n",
    "        \n",
    "    def display(self):\n",
    "        print(\"\\n----------------\")\n",
    "        print(\"Roll no:\",self.rollno)\n",
    "        print(\"Name:\",self.name)\n",
    "        print(\"Age\",self.age)\n",
    "        print(\"Marks:\",self.marks)\n",
    "        print(\"----------------\")\n",
    "        \n",
    "        \n",
    "    def __eq__(self,other):\n",
    "        self.display()\n",
    "        other.display()\n",
    "\n",
    "s1=Student(55,\"Meet\",20,58)\n",
    "s2=Student(39,\"Divy\",19,68)\n",
    "s3=Student(71,\"Manasvi\",19,58)\n",
    "\n",
    "s1.display()\n",
    "s2.display()\n",
    "s3.display()\n",
    "s1==s2\n",
    "s2==s3"
   ]
  },
  {
   "cell_type": "code",
   "execution_count": 1,
   "metadata": {},
   "outputs": [],
   "source": [
    "# WAP to find net salary of employee using inheritance create three class:\n",
    "# 1.Employee (Abstract class):\n",
    "#     1.1 getEmployee: it takes user input for id,name,basic salary\n",
    "#     1.2 EmployeeDetails: print id,name,basic salary\n",
    "#     1.3 getSalary: return a basic salary\n",
    "#     1.4 emp_id : abstract method\n",
    "\n",
    "# 2.Perks:\n",
    "#     2.1 calculatePerks: calculate DA,HRA,PF\n",
    "#             DA:35% of basic salary\n",
    "#             HRA:17% of basic salary\n",
    "#             PF:12% of basic salary\n",
    "#     2.2 printPerks: print DA,HRA,PF\n",
    "#     2.3 totalPerks: return DA+HRA-PF\n",
    "#     2.4 emp_id: due to abstraction\n",
    "\n",
    "# 3.NetSalary:\n",
    "#     3.1 getSalary :Calculate total Salary\n"
   ]
  },
  {
   "cell_type": "code",
   "execution_count": 4,
   "metadata": {},
   "outputs": [
    {
     "name": "stdout",
     "output_type": "stream",
     "text": [
      "Enter id:101\n",
      "Enter name:Meet\n",
      "Enter basic salary:550000\n",
      "ID : 101\n",
      "Name : Meet\n",
      "Basic Salary : 550000\n",
      "550000\n",
      "DA : 192500.0\n",
      "HRA : 93500.0\n",
      "PF : 66000.0\n",
      "220000.0\n",
      "770000.0\n"
     ]
    }
   ],
   "source": [
    "from abc import *\n",
    "\n",
    "class Employee(ABC):\n",
    "    def getEmployee(self):\n",
    "        self.id=int(input(\"Enter id:\"))\n",
    "        self.name=input(\"Enter name:\")\n",
    "        self.basicSalary=int(input(\"Enter basic salary:\"))\n",
    "        \n",
    "    \n",
    "    def EmployeeDetails(self):\n",
    "        print(\"ID :\",self.id)\n",
    "        print(\"Name :\",self.name)\n",
    "        print(\"Basic Salary :\",self.basicSalary)\n",
    "    \n",
    "    def getSalary(self):\n",
    "        return self.basicSalary\n",
    "    \n",
    "    @abstractmethod\n",
    "    def emp_id(self):\n",
    "        pass\n",
    "\n",
    "class Perks(Employee):\n",
    "    def calculatePerks(self):\n",
    "        self.DA=self.basicSalary*0.35\n",
    "        self.HRA=self.basicSalary*0.17\n",
    "        self.PF=self.basicSalary*0.12\n",
    "    \n",
    "    def printPerks(self):\n",
    "        print(\"DA :\",self.DA)\n",
    "        print(\"HRA :\",self.HRA)\n",
    "        print(\"PF :\",self.PF)\n",
    "    \n",
    "    def totalPerks(self):\n",
    "        self.totalPerks=self.DA+self.HRA- self.PF\n",
    "        return self.totalPerks\n",
    "        \n",
    "    def emp_id(self):\n",
    "        pass\n",
    "    \n",
    "class NetSalary(Perks):\n",
    "    def getTotal(self):\n",
    "        return self.basicSalary+self.totalPerks\n",
    "    \n",
    "Emp1=NetSalary()\n",
    "Emp1.getEmployee()\n",
    "Emp1.EmployeeDetails()\n",
    "print(Emp1.getSalary())\n",
    "Emp1.calculatePerks()\n",
    "Emp1.printPerks()\n",
    "print(Emp1.totalPerks())\n",
    "print(Emp1.getTotal())"
   ]
  },
  {
   "cell_type": "code",
   "execution_count": 18,
   "metadata": {},
   "outputs": [
    {
     "name": "stdout",
     "output_type": "stream",
     "text": [
      "HDD  at RS. 5000\n",
      "Want this is item ? (Yes/NO)\n",
      "Enter answer: yes\n",
      "Enter quantity:1\n",
      "RAM  at RS. 2000\n",
      "Want this is item ? (Yes/NO)\n",
      "Enter answer: yes\n",
      "Enter quantity:3\n",
      "Printer  at RS. 6000\n",
      "Want this is item ? (Yes/NO)\n",
      "Enter answer: no\n",
      "Pendrive  at RS. 800\n",
      "Want this is item ? (Yes/NO)\n",
      "Enter answer: yes\n",
      "Enter quantity:7\n",
      "Total Amount: 16600\n",
      "Payment options:\n",
      "                   1.Cash Payment\n",
      "                   2.Cheque Payment\n",
      "Select Options: 1\n",
      "No of 2000 Notes: 8\n",
      "No of 500 Notes: 1\n",
      "No of 100 Notes: 1\n"
     ]
    }
   ],
   "source": [
    "class Bill:\n",
    "    def __init__(self):\n",
    "        self.products={\"HDD\":5000,\"RAM\":2000,\"Printer\":6000,\"Pendrive\":800}\n",
    "        self.cart={}\n",
    "        self.price=0\n",
    "        for i,j in self.products.items():\n",
    "            print(i,\" at RS.\",j)\n",
    "            print(\"Want this is item ? (Yes/NO)\")\n",
    "            ans=input(\"Enter answer: \").lower()\n",
    "            if ans==\"yes\":\n",
    "                quantity=int(input(\"Enter quantity:\"))\n",
    "                self.cart[i]=j*quantity\n",
    "        for i in self.cart.values():\n",
    "            self.price=self.price+i\n",
    "        print(\"Total Amount:\",self.price)\n",
    "        print('''Payment options:\n",
    "                   1.Cash Payment\n",
    "                   2.Cheque Payment''')\n",
    "        option=int(input(\"Select Options: \"))\n",
    "        if option==1:\n",
    "            Cash=CashPayment(self.price)\n",
    "        elif option==2:\n",
    "            Cash=ChequePayment()\n",
    "        else:\n",
    "            print(\"wrong input\")\n",
    "        \n",
    "        \n",
    "class CashPayment(Bill):\n",
    "    def __init__(self,price):\n",
    "        self.price=price\n",
    "        self.d={2000:0,500:0,200:0,100:0,50:0,20:0,10:0}\n",
    "        for i,j in self.d.items():\n",
    "            self.d[i]=self.price//i\n",
    "            self.price=self.price-((self.price//i)*i)\n",
    "            if self.price==0:\n",
    "                break\n",
    "            \n",
    "        for i,j in self.d.items():\n",
    "            if j!=0:\n",
    "                print(\"No of\",i,\"Notes:\",j)\n",
    "                \n",
    "class ChequePayment(Bill):\n",
    "    def __init__(self):\n",
    "        self.acc=input(\"Enter Account no:\")\n",
    "        self.pin=int(input(\"Enter pin:\"))\n",
    "        print(\"Payment Successfull\")\n",
    "          \n",
    "        \n",
    "buy=Bill()"
   ]
  },
  {
   "cell_type": "markdown",
   "metadata": {},
   "source": [
    "<h2> <li type=\"disc\"><u>   Numpy"
   ]
  },
  {
   "cell_type": "markdown",
   "metadata": {},
   "source": [
    "* Numerical Python\n",
    "* Python Library used for warning with arrays.\n",
    "* Created in 2005 by Travis oliphant.\n",
    "* list that serves the purpose of arrays,but slow to process.\n",
    "* Numpy aims to provide an array object that is upto 50x faster than tradional pyhton list."
   ]
  },
  {
   "cell_type": "code",
   "execution_count": 1,
   "metadata": {},
   "outputs": [
    {
     "name": "stdout",
     "output_type": "stream",
     "text": [
      "size of each element of list in byte: 48\n",
      "size of whole list in bytes: 48000\n",
      "size of each element of numpy array in byte: 4\n",
      "size of whole numpy array in bytes: 4000\n"
     ]
    }
   ],
   "source": [
    "import numpy as np\n",
    "import sys\n",
    "\n",
    "s=range(1000)\n",
    "print(\"size of each element of list in byte:\",sys.getsizeof(s))\n",
    "print(\"size of whole list in bytes:\",sys.getsizeof(s)*len(s))\n",
    "\n",
    "d=np.arange(1000)\n",
    "print(\"size of each element of numpy array in byte:\",d.itemsize)\n",
    "print(\"size of whole numpy array in bytes:\",d.itemsize*d.size)"
   ]
  },
  {
   "cell_type": "code",
   "execution_count": 7,
   "metadata": {},
   "outputs": [
    {
     "name": "stdout",
     "output_type": "stream",
     "text": [
      "[1 2 3 4 5]\n",
      "1\n",
      "3\n",
      "<class 'numpy.ndarray'>\n",
      "[[5 6 7]]\n",
      "[5 6 7]\n",
      "[3 7]\n"
     ]
    }
   ],
   "source": [
    "import numpy as np\n",
    "arr=np.array([1,2,3,4,5])\n",
    "print(arr)\n",
    "print(arr.ndim)\n",
    "arr=np.array([[[1,2,3,4,5]]])\n",
    "print(arr.ndim)\n",
    "print(type(arr))\n",
    "arr=np.array([[1,2,3,4],[5,6,7,8]])\n",
    "print(arr[1:2,0:3])\n",
    "print(arr[1,0:3])\n",
    "print(arr[0:2,2])"
   ]
  },
  {
   "cell_type": "code",
   "execution_count": 28,
   "metadata": {},
   "outputs": [
    {
     "name": "stdout",
     "output_type": "stream",
     "text": [
      "1\n",
      "(6,)\n",
      "2\n",
      "(2, 4)\n",
      "3\n",
      "(1, 4, 3)\n",
      "[[[[[1 2 3 4 5]]]]]\n",
      "(1, 1, 1, 1, 5)\n",
      "[1 2 3 4 5 6]\n",
      "[[1 2]\n",
      " [3 4]\n",
      " [5 6]]\n",
      "1\n",
      "2\n",
      "3\n",
      "4\n",
      "5\n",
      "6\n",
      "\n",
      "1\n",
      "3\n"
     ]
    }
   ],
   "source": [
    "import numpy as np\n",
    "arr1=np.array([1,2,3,4,5,6])\n",
    "arr2=np.array([[1,2,3,4],[5,6,7,8]])\n",
    "arr3=np.array([[[1,2,3],[4,5,6],[7,8,9],[10,11,12]]])\n",
    "arr4=np.array([1,2,3,4,5],ndmin=5)\n",
    "\n",
    "print(arr1.ndim)\n",
    "print(arr1.shape)\n",
    "\n",
    "print(arr2.ndim)\n",
    "print(arr2.shape)\n",
    "\n",
    "print(arr3.ndim)\n",
    "print(arr3.shape)\n",
    "print(arr4)\n",
    "print(arr4.shape)\n",
    "\n",
    "newarr=arr1.reshape(3,-1)\n",
    "print(newarr.base)\n",
    "print(newarr)\n",
    "\n",
    "for x in np.nditer(newarr):\n",
    "    print(x)\n",
    "    \n",
    "print()\n",
    "\n",
    "for x in np.nditer(arr2[0:1,::2]):\n",
    "    print(x)\n",
    "\n",
    "print()\n",
    "    "
   ]
  },
  {
   "cell_type": "markdown",
   "metadata": {},
   "source": [
    "<h2> <li type=\"disc\"><u>   Built in function"
   ]
  },
  {
   "cell_type": "code",
   "execution_count": 45,
   "metadata": {},
   "outputs": [
    {
     "name": "stdout",
     "output_type": "stream",
     "text": [
      "[1 2 3 4 5 6 7 8 9]\n"
     ]
    }
   ],
   "source": [
    "#  1. Concatenate\n",
    "\n",
    "import numpy as np\n",
    "\n",
    "arr1=np.array([1,2,3])\n",
    "arr2=np.array([4,5,6])\n",
    "arr3=np.array([7,8,9])\n",
    "arr=np.concatenate((arr1,arr2,arr3),axis=0)\n",
    "print(arr)"
   ]
  },
  {
   "cell_type": "code",
   "execution_count": 50,
   "metadata": {},
   "outputs": [
    {
     "name": "stdout",
     "output_type": "stream",
     "text": [
      "[[1 2]\n",
      " [3 0]\n",
      " [4 5]\n",
      " [6 0]\n",
      " [7 8]\n",
      " [9 0]]\n",
      "(6, 2)\n",
      "[[1 2 4 5 7 8]\n",
      " [3 0 6 0 9 0]]\n",
      "(2, 6)\n"
     ]
    }
   ],
   "source": [
    "import numpy as np\n",
    "\n",
    "arr1=np.array([[1,2],[3,0]])\n",
    "arr2=np.array([[4,5],[6,0]])\n",
    "arr3=np.array([[7,8],[9,0]])\n",
    "arr=np.concatenate((arr1,arr2,arr3),axis=0)\n",
    "print(arr)\n",
    "print(arr.shape)\n",
    "arr=np.concatenate((arr1,arr2,arr3),axis=1)\n",
    "print(arr)\n",
    "print(arr.shape)"
   ]
  },
  {
   "cell_type": "code",
   "execution_count": 61,
   "metadata": {},
   "outputs": [
    {
     "name": "stdout",
     "output_type": "stream",
     "text": [
      "[array([1, 2]), array([3]), array([4])]\n",
      "[array([1]), array([2]), array([3]), array([4])]\n",
      "[array([1]), array([2]), array([3]), array([4]), array([], dtype=int32)]\n",
      "[array([[1, 2],\n",
      "       [3, 4]]), array([[5, 6]]), array([[7, 8]])]\n",
      "[array([[1],\n",
      "       [3],\n",
      "       [5],\n",
      "       [7]]), array([[2],\n",
      "       [4],\n",
      "       [6],\n",
      "       [8]]), array([], shape=(4, 0), dtype=int32), array([], shape=(4, 0), dtype=int32)]\n"
     ]
    }
   ],
   "source": [
    "#  2.Split\n",
    "\n",
    "import numpy as np\n",
    "\n",
    "arr=np.array([1,2,3,4])\n",
    "newarr=np.array_split(arr,3)\n",
    "print(newarr)\n",
    "newarr=np.array_split(arr,4)\n",
    "print(newarr)\n",
    "newarr=np.array_split(arr,5)\n",
    "print(newarr)\n",
    "\n",
    "\n",
    "arr1=np.array([[1,2],[3,4],[5,6],[7,8]])\n",
    "newarr=np.array_split(arr1,3)\n",
    "print(newarr)\n",
    "newarr=np.array_split(arr1,4,axis=1)\n",
    "print(newarr)"
   ]
  },
  {
   "cell_type": "code",
   "execution_count": 3,
   "metadata": {},
   "outputs": [
    {
     "name": "stdout",
     "output_type": "stream",
     "text": [
      "(array([3, 6], dtype=int64),)\n",
      "(array([1, 3, 5, 6], dtype=int64),)\n",
      "(array([1, 2], dtype=int64), array([1, 0], dtype=int64))\n",
      "(array([0, 0, 1, 1], dtype=int64), array([0, 1, 0, 1], dtype=int64), array([2, 2, 0, 1], dtype=int64))\n"
     ]
    }
   ],
   "source": [
    "# 3. Where\n",
    "\n",
    "import numpy as np\n",
    "arr=np.array([1,2,3,4,5,6,4])\n",
    "x=np.where(arr==4)\n",
    "print(x)\n",
    "x=np.where(arr%2==0)\n",
    "print(x)\n",
    "\n",
    "arr=np.array([[1,2],[3,4],[4,5],[7,8]])\n",
    "x=np.where(arr==4)\n",
    "print(x)\n",
    "\n",
    "arr=np.array([[[1,2,3],[4,5,3]],[[3,4,6],[7,3,2]]])\n",
    "x=np.where(arr==3)\n",
    "print(x)"
   ]
  },
  {
   "cell_type": "code",
   "execution_count": 41,
   "metadata": {},
   "outputs": [
    {
     "name": "stdout",
     "output_type": "stream",
     "text": [
      "[1 2 3 4 4 5 6 7]\n",
      "['apple' 'banana' 'cherry']\n",
      "[False  True  True]\n",
      "\n",
      "[[2 3 4]\n",
      " [1 3 7]\n",
      " [2 4 5]]\n",
      "\n",
      "[[2 3 4]\n",
      " [1 3 7]\n",
      " [2 4 5]]\n",
      "\n",
      "[[1 3 4]\n",
      " [2 3 5]\n",
      " [2 4 7]]\n",
      "\n",
      "[1 2 2 3 3 4 4 5 7]\n",
      "[[[2 3 8]\n",
      "  [3 7 9]]\n",
      "\n",
      " [[2 6 7]\n",
      "  [4 6 9]]]\n",
      "\n",
      "[[[3 2 2]\n",
      "  [7 6 3]]\n",
      "\n",
      " [[6 7 8]\n",
      "  [9 9 4]]]\n",
      "\n"
     ]
    }
   ],
   "source": [
    "#  4.sort()\n",
    "\n",
    "import numpy as np\n",
    "\n",
    "arr1=np.array([1,2,3,4,5,4,6,7])\n",
    "print(np.sort(arr1))\n",
    "\n",
    "arr2=np.array(['banana','apple','cherry'])\n",
    "print(np.sort(arr2))\n",
    "\n",
    "arr3=np.array([True,False,True])\n",
    "print(np.sort(arr3),end=\"\\n\\n\")\n",
    "\n",
    "arr4=np.array([[3,4,2],[1,7,3],[4,2,5]])\n",
    "print(np.sort(arr4),end=\"\\n\\n\")\n",
    "\n",
    "arr5=np.sort(arr4,axis=1)\n",
    "print(arr5,end=\"\\n\\n\")\n",
    "print(np.sort(arr5,axis=0),end=\"\\n\\n\")\n",
    "print(np.sort(arr5,axis=None))\n",
    "\n",
    "arr6=np.array([[[3,2,8],[7,9,3]],[[6,7,2],[9,6,4]]])\n",
    "print(np.sort(arr6,axis=-1),end=\"\\n\\n\")\n",
    "print(np.sort(arr6,axis=0),end=\"\\n\\n\")"
   ]
  },
  {
   "cell_type": "code",
   "execution_count": null,
   "metadata": {},
   "outputs": [],
   "source": []
  }
 ],
 "metadata": {
  "kernelspec": {
   "display_name": "Python 3",
   "language": "python",
   "name": "python3"
  },
  "language_info": {
   "codemirror_mode": {
    "name": "ipython",
    "version": 3
   },
   "file_extension": ".py",
   "mimetype": "text/x-python",
   "name": "python",
   "nbconvert_exporter": "python",
   "pygments_lexer": "ipython3",
   "version": "3.8.5"
  }
 },
 "nbformat": 4,
 "nbformat_minor": 4
}
